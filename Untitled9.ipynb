{
  "nbformat": 4,
  "nbformat_minor": 0,
  "metadata": {
    "colab": {
      "provenance": []
    },
    "kernelspec": {
      "name": "python3",
      "display_name": "Python 3"
    },
    "language_info": {
      "name": "python"
    }
  },
  "cells": [
    {
      "cell_type": "code",
      "execution_count": 1,
      "metadata": {
        "colab": {
          "base_uri": "https://localhost:8080/"
        },
        "id": "M8Fa9I0o4cwV",
        "outputId": "04bc3303-e6c5-45f5-d8e6-15153d7326f5"
      },
      "outputs": [
        {
          "output_type": "stream",
          "name": "stdout",
          "text": [
            "2 1\n"
          ]
        }
      ],
      "source": [
        "var1 = 1\n",
        "var2 = 2\n",
        "var1, var2 = var2, var1\n",
        "\n",
        "print(var1, var2)"
      ]
    },
    {
      "cell_type": "code",
      "source": [
        "# Latihan\n",
        "var1 = 1\n",
        "var2 = 2\n",
        "var3 = 3\n",
        "def swap(var1, var2, var3):\n",
        "  var1, var3 = var3, var1\n",
        "  print(var1, var2, var3)\n",
        "\n",
        "swap(var1, var2, var3)"
      ],
      "metadata": {
        "colab": {
          "base_uri": "https://localhost:8080/"
        },
        "id": "KZv_yn--4mcu",
        "outputId": "c973ddf1-2dbc-41ac-a2b0-d7b73e17c230"
      },
      "execution_count": 2,
      "outputs": [
        {
          "output_type": "stream",
          "name": "stdout",
          "text": [
            "3 2 1\n"
          ]
        }
      ]
    },
    {
      "cell_type": "code",
      "source": [
        "list = [25, 21, 22, 24, 23, 27, 26]\n",
        "\n",
        "lastElementIndex = len(list) - 1\n",
        "print(0, list)\n",
        "for idx in range(lastElementIndex):\n",
        "  if list[idx] > list[idx + 1]:\n",
        "    list[idx], list[idx+1] = list[idx + 1], list[idx]\n",
        "  print(idx + 1, list)"
      ],
      "metadata": {
        "colab": {
          "base_uri": "https://localhost:8080/"
        },
        "id": "NwG8POhj4rYs",
        "outputId": "3832597d-654c-4d33-be31-2565b55000ee"
      },
      "execution_count": 3,
      "outputs": [
        {
          "output_type": "stream",
          "name": "stdout",
          "text": [
            "0 [25, 21, 22, 24, 23, 27, 26]\n",
            "1 [21, 25, 22, 24, 23, 27, 26]\n",
            "2 [21, 22, 25, 24, 23, 27, 26]\n",
            "3 [21, 22, 24, 25, 23, 27, 26]\n",
            "4 [21, 22, 24, 23, 25, 27, 26]\n",
            "5 [21, 22, 24, 23, 25, 27, 26]\n",
            "6 [21, 22, 24, 23, 25, 26, 27]\n"
          ]
        }
      ]
    },
    {
      "cell_type": "code",
      "source": [
        "def BubbleSort(list):\n",
        "  lastElementIndex = len(list) - 1\n",
        "  for passNo in range(lastElementIndex, 0, -1):\n",
        "    for idx in range(passNo):\n",
        "      if list[idx] > list[idx + 1]:\n",
        "        list[idx], list[idx + 1] = list[idx + 1], list[idx]\n",
        "  return list\n",
        "\n",
        "BubbleSort(list)\n",
        ""
      ],
      "metadata": {
        "colab": {
          "base_uri": "https://localhost:8080/"
        },
        "id": "H0789gQo4tkc",
        "outputId": "10efbaa8-d450-4c40-c96b-ed1519224b64"
      },
      "execution_count": 4,
      "outputs": [
        {
          "output_type": "execute_result",
          "data": {
            "text/plain": [
              "[21, 22, 23, 24, 25, 26, 27]"
            ]
          },
          "metadata": {},
          "execution_count": 4
        }
      ]
    },
    {
      "cell_type": "code",
      "source": [
        "def InsertionSort(list):\n",
        "  for i in range(1, len(list)):\n",
        "    j = i - 1\n",
        "    next = list[i]\n",
        "\n",
        "    while (list[j] > next) and (j >= 0):\n",
        "      list[j+1] = list[j]\n",
        "      j = j - 1\n",
        "    list[j + 1] =  next\n",
        "  return list\n",
        "\n",
        "list3 = [35, 31, 32, 34, 33, 37, 36]\n",
        "InsertionSort(list3)"
      ],
      "metadata": {
        "colab": {
          "base_uri": "https://localhost:8080/"
        },
        "id": "RlgTdFK_4wAZ",
        "outputId": "98714837-76ff-4d41-ed80-90d196aafaa2"
      },
      "execution_count": 5,
      "outputs": [
        {
          "output_type": "execute_result",
          "data": {
            "text/plain": [
              "[31, 32, 33, 34, 35, 36, 37]"
            ]
          },
          "metadata": {},
          "execution_count": 5
        }
      ]
    },
    {
      "cell_type": "code",
      "source": [
        "# Latihan\n",
        "list4 = [89, 12, 57, 16, 25, 11, 75]\n",
        "InsertionSort(list4)"
      ],
      "metadata": {
        "colab": {
          "base_uri": "https://localhost:8080/"
        },
        "id": "os2kw-Vo4zX5",
        "outputId": "1076b3de-7809-44d1-b8ed-7dcc48ed88ff"
      },
      "execution_count": 6,
      "outputs": [
        {
          "output_type": "execute_result",
          "data": {
            "text/plain": [
              "[11, 12, 16, 25, 57, 75, 89]"
            ]
          },
          "metadata": {},
          "execution_count": 6
        }
      ]
    },
    {
      "cell_type": "code",
      "source": [
        "def SelectionSort(list):\n",
        "  for fill_slot in range(len(list) - 1, 0, -1):\n",
        "    max_index = 0\n",
        "    for location in range(1, fill_slot + 1):\n",
        "      if list[location] > list[max_index]:\n",
        "        max_index = location\n",
        "      list[fill_slot], list[max_index] = list[max_index], list[fill_slot]\n",
        "  return list\n",
        "\n",
        "list5 = [70, 15, 25, 19, 34, 44]\n",
        "SelectionSort(list5)"
      ],
      "metadata": {
        "colab": {
          "base_uri": "https://localhost:8080/"
        },
        "id": "4_1rytZB41xb",
        "outputId": "b13bfd82-5a15-4326-df17-3a2b0d391e8c"
      },
      "execution_count": 7,
      "outputs": [
        {
          "output_type": "execute_result",
          "data": {
            "text/plain": [
              "[15, 19, 25, 34, 44, 70]"
            ]
          },
          "metadata": {},
          "execution_count": 7
        }
      ]
    },
    {
      "cell_type": "code",
      "source": [
        "# Latihan\n",
        "list6 = [89, 12, 57, 16, 25]\n",
        "SelectionSort(list6)\n"
      ],
      "metadata": {
        "colab": {
          "base_uri": "https://localhost:8080/"
        },
        "id": "uc1tZ58W4305",
        "outputId": "4cba9af2-8cf7-4cb0-c376-c37300675a67"
      },
      "execution_count": 8,
      "outputs": [
        {
          "output_type": "execute_result",
          "data": {
            "text/plain": [
              "[12, 16, 25, 57, 89]"
            ]
          },
          "metadata": {},
          "execution_count": 8
        }
      ]
    },
    {
      "cell_type": "code",
      "source": [
        "def LinearSearch(list, item):\n",
        "  index = 0\n",
        "  found = False\n",
        "\n",
        "  while index < len(list) and found is False:\n",
        "    if list[index] == item:\n",
        "      found = True\n",
        "    else:\n",
        "      index = index + 1\n",
        "  return found\n",
        "\n",
        "list7 = [12, 33, 11, 99, 22, 55, 90]\n",
        "print(LinearSearch(list7, 12))\n",
        "print(LinearSearch(list7, 91))"
      ],
      "metadata": {
        "colab": {
          "base_uri": "https://localhost:8080/"
        },
        "id": "vvIAhzQO45mD",
        "outputId": "766f16d0-3e9c-4404-ab72-e2b1b7b00e96"
      },
      "execution_count": 9,
      "outputs": [
        {
          "output_type": "stream",
          "name": "stdout",
          "text": [
            "True\n",
            "False\n"
          ]
        }
      ]
    },
    {
      "cell_type": "code",
      "source": [
        "# Latihan\n",
        "list8 = [\"y\", \"u\", \"i\", \"w\", \"o\", \"a\", \"q\", \"u\", \"j\", \"p\"]\n",
        "\n",
        "print(LinearSearch(list8, \"a\"))\n"
      ],
      "metadata": {
        "colab": {
          "base_uri": "https://localhost:8080/"
        },
        "id": "VWpkPHcb47Ud",
        "outputId": "d002fed7-c614-4403-cf9d-685aec13229d"
      },
      "execution_count": 10,
      "outputs": [
        {
          "output_type": "stream",
          "name": "stdout",
          "text": [
            "True\n"
          ]
        }
      ]
    },
    {
      "cell_type": "code",
      "source": [
        "def BinarySearch(list, item):\n",
        "  first = 0\n",
        "  last = len(list) - 1\n",
        "  found = False\n",
        "\n",
        "  while first <= last and not found:\n",
        "    midpoint = (first + last) // 2\n",
        "    if list[midpoint] == item:\n",
        "      found = True\n",
        "    else:\n",
        "      if item < list[midpoint]:\n",
        "        last = midpoint - 1\n",
        "      else:\n",
        "        first = midpoint + 1\n",
        "  return found\n",
        "\n",
        "print(BinarySearch(BubbleSort(list7), 12))\n",
        "print(BinarySearch(BubbleSort(list7), 91))\n"
      ],
      "metadata": {
        "colab": {
          "base_uri": "https://localhost:8080/"
        },
        "id": "XEhizjUh49I3",
        "outputId": "5b46db41-6db6-4b1c-97f9-491d38f3dfa7"
      },
      "execution_count": 11,
      "outputs": [
        {
          "output_type": "stream",
          "name": "stdout",
          "text": [
            "True\n",
            "False\n"
          ]
        }
      ]
    },
    {
      "cell_type": "code",
      "source": [
        "# Latihan\n",
        "print(BinarySearch(BubbleSort(list8), \"a\"))"
      ],
      "metadata": {
        "colab": {
          "base_uri": "https://localhost:8080/"
        },
        "id": "8Y3kkgPL4-0f",
        "outputId": "52009111-19bd-4248-b8dd-24d95f554752"
      },
      "execution_count": 12,
      "outputs": [
        {
          "output_type": "stream",
          "name": "stdout",
          "text": [
            "True\n"
          ]
        }
      ]
    },
    {
      "cell_type": "code",
      "source": [
        "def IntPolSearch(list, x):\n",
        "  idx0 = 0\n",
        "  idxn = (len(list) - 1)\n",
        "  found = False\n",
        "\n",
        "  while idx0 <= idxn and x >= list[idx0] and x <= list[idxn]:\n",
        "    mid = idx0 + int(((float(idxn - idx0) / (list[idxn] - list[idx0])) * (x - list[idx0])))\n",
        "\n",
        "    if list[mid] == x:\n",
        "      found = True\n",
        "      return found\n",
        "\n",
        "    if list[mid] < x:\n",
        "      idx0 = mid + 1\n",
        "\n",
        "  return found\n",
        "\n",
        "print(IntPolSearch(BubbleSort(list7), 12))\n",
        "print(IntPolSearch(BubbleSort(list7), 9))"
      ],
      "metadata": {
        "colab": {
          "base_uri": "https://localhost:8080/"
        },
        "id": "iKjvTBCu5CaR",
        "outputId": "fe3df15f-a316-4bc5-fb4d-7edd82efff72"
      },
      "execution_count": 13,
      "outputs": [
        {
          "output_type": "stream",
          "name": "stdout",
          "text": [
            "True\n",
            "False\n"
          ]
        }
      ]
    },
    {
      "cell_type": "code",
      "source": [
        "# Latihan\n",
        "# Sedikit modifikasi agar dapat mencari string\n",
        "def InterpolationSearch(list, x):\n",
        "    idx0 = 0\n",
        "    idxn = len(list) - 1\n",
        "    found = False\n",
        "\n",
        "    while idx0 <= idxn and x >= list[idx0] and x <= list[idxn]:\n",
        "        mid = idx0 + int(((idxn - idx0) / (idxn - idx0)) * (idxn - idx0))\n",
        "\n",
        "        if list[mid] == x:\n",
        "            found = True\n",
        "            return found\n",
        "\n",
        "        elif list[mid] < x:\n",
        "            idx0 = mid + 1\n",
        "\n",
        "        else:\n",
        "            idxn = mid - 1\n",
        "\n",
        "    return found\n",
        "\n",
        "print(InterpolationSearch(BubbleSort(list8), \"u\"))"
      ],
      "metadata": {
        "colab": {
          "base_uri": "https://localhost:8080/"
        },
        "id": "azpIAi4E5Eux",
        "outputId": "b3d0278e-b670-40e9-990a-e91198a67578"
      },
      "execution_count": 14,
      "outputs": [
        {
          "output_type": "stream",
          "name": "stdout",
          "text": [
            "True\n"
          ]
        }
      ]
    }
  ]
}