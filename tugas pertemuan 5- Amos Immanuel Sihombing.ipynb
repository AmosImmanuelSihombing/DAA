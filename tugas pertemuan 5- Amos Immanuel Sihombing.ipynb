{
  "nbformat": 4,
  "nbformat_minor": 0,
  "metadata": {
    "colab": {
      "provenance": []
    },
    "kernelspec": {
      "name": "python3",
      "display_name": "Python 3"
    },
    "language_info": {
      "name": "python"
    }
  },
  "cells": [
    {
      "cell_type": "code",
      "execution_count": null,
      "metadata": {
        "colab": {
          "base_uri": "https://localhost:8080/"
        },
        "id": "GqpkszdULE59",
        "outputId": "8a54bf84-2fbe-4741-8f27-e30a1a5c7b82"
      },
      "outputs": [
        {
          "output_type": "stream",
          "name": "stdout",
          "text": [
            "Nama: Amos\n",
            "NIM: 2022071020\n",
            "Prodi: Informatika\n",
            "Mata Kuliah: Desain Ana;isis Algoritma\n",
            "Tanggal Hari Ini: 2023-09-13\n",
            "Nama Universitas: Universitas Pembangunan Jaya\n",
            "\n",
            "\n"
          ]
        }
      ],
      "source": [
        "from datetime import date\n",
        "\n",
        "mahasiswa = [\n",
        "    {\n",
        "        \"Nama\": \"Amos\",\n",
        "        \"NIM\": \"2022071020\",\n",
        "        \"Prodi\": \"Informatika\",\n",
        "        \"Mata Kuliah\": \"Desain Ana;isis Algoritma\",\n",
        "        \"Tanggal Hari Ini\": date.today().strftime(\"%Y-%m-%d\"),\n",
        "        \"Nama Universitas\": \"Universitas Pembangunan Jaya\"\n",
        "    },\n",
        "]\n",
        "\n",
        "for mhs in mahasiswa:\n",
        "    print(\"Nama:\", mhs[\"Nama\"])\n",
        "    print(\"NIM:\", mhs[\"NIM\"])\n",
        "    print(\"Prodi:\", mhs[\"Prodi\"])\n",
        "    print(\"Mata Kuliah:\", mhs[\"Mata Kuliah\"])\n",
        "    print(\"Tanggal Hari Ini:\", mhs[\"Tanggal Hari Ini\"])\n",
        "    print(\"Nama Universitas:\", mhs[\"Nama Universitas\"])\n",
        "    print(\"\\n\")"
      ]
    },
    {
      "cell_type": "code",
      "source": [
        "bin_colors=['Red','Green','Blue','Yellow']\n",
        "bin_colors[1]"
      ],
      "metadata": {
        "colab": {
          "base_uri": "https://localhost:8080/",
          "height": 35
        },
        "id": "qDrk5nGgNx06",
        "outputId": "a7297d09-f2b3-4590-d8af-45a4ae5ca635"
      },
      "execution_count": null,
      "outputs": [
        {
          "output_type": "execute_result",
          "data": {
            "text/plain": [
              "'Green'"
            ],
            "application/vnd.google.colaboratory.intrinsic+json": {
              "type": "string"
            }
          },
          "metadata": {},
          "execution_count": 26
        }
      ]
    },
    {
      "cell_type": "code",
      "source": [
        "from datetime import date\n",
        "\n",
        "mahasiswa=['Nama : Amos',\n",
        "        'NIM : 2022071020',\n",
        "        'Prodi : Informatika',\n",
        "        'Mata Kuliah : Desain Analisis Algoritma',\n",
        "        'Tanggal Hari Ini : ', date.today().strftime(\"%Y-%m-%d\"),\n",
        "        'Nama Universitas : Universitas Pembangunan Jaya']\n",
        "\n",
        "mahasiswa[1]"
      ],
      "metadata": {
        "colab": {
          "base_uri": "https://localhost:8080/",
          "height": 35
        },
        "id": "mbRsAsJvOiAA",
        "outputId": "808bd826-e873-4eab-c429-4efa8d0c3026"
      },
      "execution_count": null,
      "outputs": [
        {
          "output_type": "execute_result",
          "data": {
            "text/plain": [
              "'NIM : 2022071020'"
            ],
            "application/vnd.google.colaboratory.intrinsic+json": {
              "type": "string"
            }
          },
          "metadata": {},
          "execution_count": 21
        }
      ]
    },
    {
      "cell_type": "code",
      "source": [
        "from datetime import date\n",
        "\n",
        "mahasiswa=['Nama : Amos',\n",
        "        'NIM : 2022071020',\n",
        "        'Prodi : Informatika',\n",
        "        'Mata Kuliah : Desain Analisis Algoritma',\n",
        "        'Tanggal Hari Ini : ', date.today().strftime(\"%Y-%m-%d\"),\n",
        "        'Nama Universitas : Universitas Pembangunan Jaya']\n",
        "\n",
        "mahasiswa[-1]"
      ],
      "metadata": {
        "colab": {
          "base_uri": "https://localhost:8080/",
          "height": 35
        },
        "id": "BGDNcBrsQlhE",
        "outputId": "1943d049-0a0f-4b56-b0a7-5e92ca8084a0"
      },
      "execution_count": null,
      "outputs": [
        {
          "output_type": "execute_result",
          "data": {
            "text/plain": [
              "'Nama Universitas : Universitas Pembangunan Jaya'"
            ],
            "application/vnd.google.colaboratory.intrinsic+json": {
              "type": "string"
            }
          },
          "metadata": {},
          "execution_count": 29
        }
      ]
    },
    {
      "cell_type": "code",
      "source": [
        "bin_colors=['Red','Green','Blue','Yellow']\n",
        "bin_colors[1:4]"
      ],
      "metadata": {
        "colab": {
          "base_uri": "https://localhost:8080/"
        },
        "id": "-gvzgq7PQ20B",
        "outputId": "6426a832-1bd8-4e7d-812c-ddca55ce87fa"
      },
      "execution_count": null,
      "outputs": [
        {
          "output_type": "execute_result",
          "data": {
            "text/plain": [
              "['Green', 'Blue', 'Yellow']"
            ]
          },
          "metadata": {},
          "execution_count": 35
        }
      ]
    },
    {
      "cell_type": "code",
      "source": [
        "from datetime import date\n",
        "\n",
        "mahasiswa=['Nama : Amos',\n",
        "        'NIM : 2022071020',\n",
        "        'Prodi : Informatika',\n",
        "        'Mata Kuliah : Desain Analisis Algoritma',\n",
        "        'Tanggal Hari Ini : ', date.today().strftime(\"%Y-%m-%d\"),\n",
        "        'Nama Universitas : Universitas Pembangunan Jaya']\n",
        "\n",
        "mahasiswa[1:3]"
      ],
      "metadata": {
        "colab": {
          "base_uri": "https://localhost:8080/"
        },
        "id": "0R5DUH_LRPpU",
        "outputId": "cf96b039-9fcb-431a-96e4-de88f99ee376"
      },
      "execution_count": null,
      "outputs": [
        {
          "output_type": "execute_result",
          "data": {
            "text/plain": [
              "['NIM : 2022071020', 'Prodi : Informatika']"
            ]
          },
          "metadata": {},
          "execution_count": 36
        }
      ]
    },
    {
      "cell_type": "code",
      "source": [
        "bin_colors=['Red','Green','Blue','Yellow']\n",
        "for aColor in bin_colors:\n",
        "  print(aColor + \" Square\")"
      ],
      "metadata": {
        "colab": {
          "base_uri": "https://localhost:8080/"
        },
        "id": "mPy48NeLRXbo",
        "outputId": "9e2d3c4e-adac-4c25-f725-cbcf45711c78"
      },
      "execution_count": null,
      "outputs": [
        {
          "output_type": "stream",
          "name": "stdout",
          "text": [
            "Red Square\n",
            "Green Square\n",
            "Blue Square\n",
            "Yellow Square\n"
          ]
        }
      ]
    },
    {
      "cell_type": "code",
      "source": [
        "from datetime import date\n",
        "\n",
        "mahasiswa=['Nama : Amos',\n",
        "        'NIM : 2022071020',\n",
        "        'Prodi : Informatika',\n",
        "        'Mata Kuliah : Desain Analisis Algoritma',\n",
        "        'Tanggal Hari Ini : ', date.today().strftime(\"%Y-%m-%d\"),\n",
        "        'Nama Universitas : Universitas Pembangunan Jaya']\n",
        "\n",
        "for a in mahasiswa:\n",
        "  print( \"UPJ \" + a)"
      ],
      "metadata": {
        "colab": {
          "base_uri": "https://localhost:8080/"
        },
        "id": "eLevSubhR2Q-",
        "outputId": "775af583-bf76-4372-8612-6e6d28a43f85"
      },
      "execution_count": null,
      "outputs": [
        {
          "output_type": "stream",
          "name": "stdout",
          "text": [
            "UPJ Nama : Amos\n",
            "UPJ NIM : 2022071020\n",
            "UPJ Prodi : Informatika\n",
            "UPJ Mata Kuliah : Desain Analisis Algoritma\n",
            "UPJ Tanggal Hari Ini : \n",
            "UPJ 2023-09-13\n",
            "UPJ Nama Universitas : Universitas Pembangunan Jaya\n"
          ]
        }
      ]
    },
    {
      "cell_type": "code",
      "source": [
        "bin_colors=['Red','Green','Blue','Yellow']\n",
        "bin_colors[2:]"
      ],
      "metadata": {
        "colab": {
          "base_uri": "https://localhost:8080/"
        },
        "id": "B-0vwZJmSLhw",
        "outputId": "4b2032b2-f4f6-4cc5-e163-758e6f7e40b3"
      },
      "execution_count": null,
      "outputs": [
        {
          "output_type": "execute_result",
          "data": {
            "text/plain": [
              "['Blue', 'Yellow']"
            ]
          },
          "metadata": {},
          "execution_count": 48
        }
      ]
    },
    {
      "cell_type": "code",
      "source": [
        "UPJ=['Universitas','Pembangunan','Jaya']\n",
        "UPJ[1:]"
      ],
      "metadata": {
        "colab": {
          "base_uri": "https://localhost:8080/"
        },
        "id": "Q5-wjb6aS1d6",
        "outputId": "f596398a-42c4-462d-9e25-842ff2f2c9c9"
      },
      "execution_count": null,
      "outputs": [
        {
          "output_type": "execute_result",
          "data": {
            "text/plain": [
              "['Pembangunan', 'Jaya']"
            ]
          },
          "metadata": {},
          "execution_count": 53
        }
      ]
    },
    {
      "cell_type": "code",
      "source": [
        "nested_tuple1=[\"100\"]\n",
        "nested_tuple2=[\"200\",\"400\",\"600\"]\n",
        "nested_tuple3=[\"300\"]\n",
        "nested_tuple4=[\"400\",\"800\"]\n",
        "\n",
        "nested_tuple=(nested_tuple1 ,nested_tuple2 ,nested_tuple3 ,nested_tuple4)\n",
        "print(nested_tuple)"
      ],
      "metadata": {
        "colab": {
          "base_uri": "https://localhost:8080/"
        },
        "id": "uTsXogJVTU4F",
        "outputId": "80e13462-a876-4a0f-9cd6-59aaecce185c"
      },
      "execution_count": null,
      "outputs": [
        {
          "output_type": "stream",
          "name": "stdout",
          "text": [
            "(['100'], ['200', '400', '600'], ['300'], ['400', '800'])\n"
          ]
        }
      ]
    },
    {
      "cell_type": "code",
      "source": [
        "bin_colors={\n",
        "    \"manual_color\" : \"Yellow\",\n",
        "    \"approved_color\" : \"Green\",\n",
        "    \"refused_color\" : \"Red\"\n",
        "}\n",
        "print(bin_colors)"
      ],
      "metadata": {
        "colab": {
          "base_uri": "https://localhost:8080/"
        },
        "id": "T40l-y7EUa8j",
        "outputId": "3935852d-1583-4c08-d656-622f780d4b3b"
      },
      "execution_count": null,
      "outputs": [
        {
          "output_type": "stream",
          "name": "stdout",
          "text": [
            "{'manual_color': 'Yellow', 'approved_color': 'Green', 'refused_color': 'Red'}\n"
          ]
        }
      ]
    },
    {
      "cell_type": "code",
      "source": [
        "bin_colors={\n",
        "    \"manual_color\" : \"Yellow\",\n",
        "    \"approved_color\" : \"Green\",\n",
        "    \"refused_color\" : \"Red\"\n",
        "}\n",
        "bin_colors.get('approved_color')"
      ],
      "metadata": {
        "colab": {
          "base_uri": "https://localhost:8080/",
          "height": 35
        },
        "id": "dl0xMePJVDXM",
        "outputId": "338923f1-ab8b-4ae5-e8ce-d402ba22259c"
      },
      "execution_count": null,
      "outputs": [
        {
          "output_type": "execute_result",
          "data": {
            "text/plain": [
              "'Green'"
            ],
            "application/vnd.google.colaboratory.intrinsic+json": {
              "type": "string"
            }
          },
          "metadata": {},
          "execution_count": 59
        }
      ]
    },
    {
      "cell_type": "code",
      "source": [
        "bin_colors={\n",
        "    \"manual_color\" : \"Yellow\",\n",
        "    \"approved_color\" : \"Green\",\n",
        "    \"refused_color\" : \"Red\"\n",
        "}\n",
        "bin_colors['approved_color']=\"Purple\"\n",
        "print(bin_colors)"
      ],
      "metadata": {
        "colab": {
          "base_uri": "https://localhost:8080/"
        },
        "id": "xEKigpweVULz",
        "outputId": "5019582a-5cff-4b1e-cd80-51d8ef6c908c"
      },
      "execution_count": null,
      "outputs": [
        {
          "output_type": "stream",
          "name": "stdout",
          "text": [
            "{'manual_color': 'Yellow', 'approved_color': 'Purple', 'refused_color': 'Red'}\n"
          ]
        }
      ]
    },
    {
      "cell_type": "code",
      "source": [
        "data={\n",
        "    \"Nama\" : \"Amos Immanuel Sihombing\",\n",
        "    \"Nim\" : \"2022071020\",\n",
        "    \"Prodi Universitas\" : \"Teknik Informatika\"\n",
        "}\n",
        "data.get('Nim')"
      ],
      "metadata": {
        "colab": {
          "base_uri": "https://localhost:8080/",
          "height": 35
        },
        "id": "-_yS1khaVuNE",
        "outputId": "58781a05-8558-4dc2-fbfc-4be804bf9445"
      },
      "execution_count": null,
      "outputs": [
        {
          "output_type": "execute_result",
          "data": {
            "text/plain": [
              "'2022071020'"
            ],
            "application/vnd.google.colaboratory.intrinsic+json": {
              "type": "string"
            }
          },
          "metadata": {},
          "execution_count": 62
        }
      ]
    },
    {
      "cell_type": "code",
      "source": [
        "data={\n",
        "    \"Nama\" : \"Amos Immanuel Sihombing\",\n",
        "    \"Nim\" : \"2022071020\",\n",
        "    \"Prodi Universitas\" : \"Teknik Informatika\"\n",
        "}\n",
        "data['Nim']=\"berubah\"\n",
        "print(data)"
      ],
      "metadata": {
        "colab": {
          "base_uri": "https://localhost:8080/"
        },
        "id": "PEDsZGKlWRfT",
        "outputId": "a32fe93f-6bb6-4788-d744-4d5cfb4f991f"
      },
      "execution_count": null,
      "outputs": [
        {
          "output_type": "stream",
          "name": "stdout",
          "text": [
            "{'Nama': 'Amos Immanuel Sihombing', 'Nim': 'berubah', 'Prodi Universitas': 'Teknik Informatika'}\n"
          ]
        }
      ]
    },
    {
      "cell_type": "code",
      "source": [
        "import pandas as pd\n",
        "\n",
        "data={'satu': [1,1,1,1,1],\n",
        "    'dua': [2,2,2,2,2],\n",
        "    'tiga': [3,3,3,3,3]}\n",
        "\n",
        "df=pd.DataFrame(data, index=['a','b','c','d','e'])\n",
        "df.Head()"
      ],
      "metadata": {
        "colab": {
          "base_uri": "https://localhost:8080/",
          "height": 331
        },
        "id": "MYdVp1Jes4sx",
        "outputId": "ce123a66-a448-4198-b8a5-f26cdbd5b0cc"
      },
      "execution_count": 1,
      "outputs": [
        {
          "output_type": "error",
          "ename": "AttributeError",
          "evalue": "ignored",
          "traceback": [
            "\u001b[0;31m---------------------------------------------------------------------------\u001b[0m",
            "\u001b[0;31mAttributeError\u001b[0m                            Traceback (most recent call last)",
            "\u001b[0;32m<ipython-input-1-57fb34623db0>\u001b[0m in \u001b[0;36m<cell line: 8>\u001b[0;34m()\u001b[0m\n\u001b[1;32m      6\u001b[0m \u001b[0;34m\u001b[0m\u001b[0m\n\u001b[1;32m      7\u001b[0m \u001b[0mdf\u001b[0m\u001b[0;34m=\u001b[0m\u001b[0mpd\u001b[0m\u001b[0;34m.\u001b[0m\u001b[0mDataFrame\u001b[0m\u001b[0;34m(\u001b[0m\u001b[0mdata\u001b[0m\u001b[0;34m,\u001b[0m \u001b[0mindex\u001b[0m\u001b[0;34m=\u001b[0m\u001b[0;34m[\u001b[0m\u001b[0;34m'a'\u001b[0m\u001b[0;34m,\u001b[0m\u001b[0;34m'b'\u001b[0m\u001b[0;34m,\u001b[0m\u001b[0;34m'c'\u001b[0m\u001b[0;34m,\u001b[0m\u001b[0;34m'd'\u001b[0m\u001b[0;34m,\u001b[0m\u001b[0;34m'e'\u001b[0m\u001b[0;34m]\u001b[0m\u001b[0;34m)\u001b[0m\u001b[0;34m\u001b[0m\u001b[0;34m\u001b[0m\u001b[0m\n\u001b[0;32m----> 8\u001b[0;31m \u001b[0mdf\u001b[0m\u001b[0;34m.\u001b[0m\u001b[0mHead\u001b[0m\u001b[0;34m(\u001b[0m\u001b[0;34m)\u001b[0m\u001b[0;34m\u001b[0m\u001b[0;34m\u001b[0m\u001b[0m\n\u001b[0m",
            "\u001b[0;32m/usr/local/lib/python3.10/dist-packages/pandas/core/generic.py\u001b[0m in \u001b[0;36m__getattr__\u001b[0;34m(self, name)\u001b[0m\n\u001b[1;32m   5900\u001b[0m         ):\n\u001b[1;32m   5901\u001b[0m             \u001b[0;32mreturn\u001b[0m \u001b[0mself\u001b[0m\u001b[0;34m[\u001b[0m\u001b[0mname\u001b[0m\u001b[0;34m]\u001b[0m\u001b[0;34m\u001b[0m\u001b[0;34m\u001b[0m\u001b[0m\n\u001b[0;32m-> 5902\u001b[0;31m         \u001b[0;32mreturn\u001b[0m \u001b[0mobject\u001b[0m\u001b[0;34m.\u001b[0m\u001b[0m__getattribute__\u001b[0m\u001b[0;34m(\u001b[0m\u001b[0mself\u001b[0m\u001b[0;34m,\u001b[0m \u001b[0mname\u001b[0m\u001b[0;34m)\u001b[0m\u001b[0;34m\u001b[0m\u001b[0;34m\u001b[0m\u001b[0m\n\u001b[0m\u001b[1;32m   5903\u001b[0m \u001b[0;34m\u001b[0m\u001b[0m\n\u001b[1;32m   5904\u001b[0m     \u001b[0;32mdef\u001b[0m \u001b[0m__setattr__\u001b[0m\u001b[0;34m(\u001b[0m\u001b[0mself\u001b[0m\u001b[0;34m,\u001b[0m \u001b[0mname\u001b[0m\u001b[0;34m:\u001b[0m \u001b[0mstr\u001b[0m\u001b[0;34m,\u001b[0m \u001b[0mvalue\u001b[0m\u001b[0;34m)\u001b[0m \u001b[0;34m->\u001b[0m \u001b[0;32mNone\u001b[0m\u001b[0;34m:\u001b[0m\u001b[0;34m\u001b[0m\u001b[0;34m\u001b[0m\u001b[0m\n",
            "\u001b[0;31mAttributeError\u001b[0m: 'DataFrame' object has no attribute 'Head'"
          ]
        }
      ]
    },
    {
      "cell_type": "code",
      "source": [
        "import numpy as np\n",
        "\n",
        "matrix = np.array([\n",
        "    [100,200,300],\n",
        "    [700,600,500],\n",
        "    [900,1000,800]\n",
        "])\n",
        "\n",
        "print(matrix)\n",
        "\n",
        "print(\"\\nTranspose:\")\n",
        "print(matrix.T)"
      ],
      "metadata": {
        "colab": {
          "base_uri": "https://localhost:8080/"
        },
        "id": "CXSe5P7K7Ukj",
        "outputId": "ddb0d0ac-0025-4354-c54e-ce7f96e1820e"
      },
      "execution_count": 4,
      "outputs": [
        {
          "output_type": "stream",
          "name": "stdout",
          "text": [
            "[[ 100  200  300]\n",
            " [ 700  600  500]\n",
            " [ 900 1000  800]]\n",
            "\n",
            "Transpose:\n",
            "[[ 100  700  900]\n",
            " [ 200  600 1000]\n",
            " [ 300  500  800]]\n"
          ]
        }
      ]
    }
  ]
}
