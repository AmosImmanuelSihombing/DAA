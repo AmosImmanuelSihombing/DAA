{
  "nbformat": 4,
  "nbformat_minor": 0,
  "metadata": {
    "colab": {
      "provenance": []
    },
    "kernelspec": {
      "name": "python3",
      "display_name": "Python 3"
    },
    "language_info": {
      "name": "python"
    }
  },
  "cells": [
    {
      "cell_type": "code",
      "source": [
        "def kpk(a, b):\n",
        " if a > b:\n",
        "   terbesar = a\n",
        " else:\n",
        "  terbesar = b\n",
        " while True:\n",
        "  if terbesar % a == 0 and terbesar % b == 0:\n",
        "    hasil = terbesar\n",
        "    break\n",
        "  terbesar += 1\n",
        " return hasil\n",
        "a = 3\n",
        "b = 4\n",
        "print(\"KPK dari\", a, \"dan\", b, \"adalah\", kpk(a, b))"
      ],
      "metadata": {
        "colab": {
          "base_uri": "https://localhost:8080/"
        },
        "id": "EaSTWIU8FMXh",
        "outputId": "06f8b01c-d172-4955-d344-a0bc612e42db"
      },
      "execution_count": 39,
      "outputs": [
        {
          "output_type": "stream",
          "name": "stdout",
          "text": [
            "KPK dari 3 dan 4 adalah 12\n"
          ]
        }
      ]
    },
    {
      "cell_type": "code",
      "source": [
        "def menukar(x, y):\n",
        " piring = [x, y, \"\"]\n",
        " for i in range(len(piring)):\n",
        "  piring[2] = x\n",
        "  piring[0] = y\n",
        "  piring[1] = x\n",
        "  piring[2] = \"\"\n",
        "  print(\"piring\", i+1, \"=\", str(piring[i]))\n",
        "x = \"manggis\"\n",
        "y = \"pisang\"\n",
        "print(\"piring 1 =\", x)\n",
        "print(\"piring 2 =\", y)\n",
        "print(\"piring 3 = \")\n",
        "print(\"\\nHasil penukaran:\")\n",
        "menukar(x, y)"
      ],
      "metadata": {
        "colab": {
          "base_uri": "https://localhost:8080/"
        },
        "id": "jkGqHCvdFTEd",
        "outputId": "655164c2-17c7-4905-b693-986506ce0c9b"
      },
      "execution_count": 40,
      "outputs": [
        {
          "output_type": "stream",
          "name": "stdout",
          "text": [
            "piring 1 = manggis\n",
            "piring 2 = pisang\n",
            "piring 3 = \n",
            "\n",
            "Hasil penukaran:\n",
            "piring 1 = pisang\n",
            "piring 2 = manggis\n",
            "piring 3 = \n"
          ]
        }
      ]
    },
    {
      "cell_type": "code",
      "source": [
        "def luas_segitiga(alas, tinggi):\n",
        " return 0.5*alas*tinggi\n",
        "alas = 25\n",
        "tinggi = 30\n",
        "print(\"Alas =\", alas, \"\\nTinggi =\", tinggi, \"\\nLuas = \", luas_segitiga(alas, tinggi))\n"
      ],
      "metadata": {
        "colab": {
          "base_uri": "https://localhost:8080/"
        },
        "id": "ATdprx_yFV8n",
        "outputId": "a299d666-289b-40e4-b560-78e296247590"
      },
      "execution_count": 41,
      "outputs": [
        {
          "output_type": "stream",
          "name": "stdout",
          "text": [
            "Alas = 25 \n",
            "Tinggi = 30 \n",
            "Luas =  375.0\n"
          ]
        }
      ]
    },
    {
      "cell_type": "code",
      "source": [
        "def luas_jajargenjang(alas, tinggi):\n",
        " return alas*tinggi\n",
        "alas = 5\n",
        "tinggi = 3\n",
        "print(\"Alas =\", alas, \"\\nTinggi =\", tinggi, \"\\nLuas = \", luas_jajargenjang(alas, tinggi))"
      ],
      "metadata": {
        "colab": {
          "base_uri": "https://localhost:8080/"
        },
        "id": "c9rrmm5MFZV-",
        "outputId": "e89cc427-6d7c-4745-b616-dc4a33c4db1f"
      },
      "execution_count": 42,
      "outputs": [
        {
          "output_type": "stream",
          "name": "stdout",
          "text": [
            "Alas = 5 \n",
            "Tinggi = 3 \n",
            "Luas =  15\n"
          ]
        }
      ]
    },
    {
      "cell_type": "code",
      "source": [
        "import math\n",
        "def volume_tabung(r, t):\n",
        " return math.pi*r**2*t\n",
        "jari_jari = 3\n",
        "tinggi = 5\n",
        "print(\"Jari-jari =\", jari_jari, \"\\nTinggi =\", tinggi, \"\\nLuas = \", volume_tabung(jari_jari,\n",
        "tinggi))"
      ],
      "metadata": {
        "colab": {
          "base_uri": "https://localhost:8080/"
        },
        "id": "raT32vESFbEp",
        "outputId": "52d3c984-43fc-4f0f-9b48-70097c94b611"
      },
      "execution_count": 43,
      "outputs": [
        {
          "output_type": "stream",
          "name": "stdout",
          "text": [
            "Jari-jari = 3 \n",
            "Tinggi = 5 \n",
            "Luas =  141.3716694115407\n"
          ]
        }
      ]
    },
    {
      "cell_type": "code",
      "source": [
        "import math\n",
        "def volume_kerucut(d, t):\n",
        " r = d/2\n",
        " return 1/3*math.pi*r**2*t\n",
        "diameter = 5\n",
        "tinggi = 4\n",
        "print(\"Diameter =\", diameter, \"\\nTinggi =\", tinggi, \"\\nVolume = \",\n",
        "volume_kerucut(diameter, tinggi))"
      ],
      "metadata": {
        "colab": {
          "base_uri": "https://localhost:8080/"
        },
        "id": "g_Fq7RpFFd99",
        "outputId": "85ef0f4c-567b-4735-a08e-315342cfc576"
      },
      "execution_count": 44,
      "outputs": [
        {
          "output_type": "stream",
          "name": "stdout",
          "text": [
            "Diameter = 5 \n",
            "Tinggi = 4 \n",
            "Volume =  26.17993877991494\n"
          ]
        }
      ]
    },
    {
      "cell_type": "markdown",
      "source": [
        "## Latihan pertemuan 2"
      ],
      "metadata": {
        "id": "h3qJ1nmEDDnN"
      }
    },
    {
      "cell_type": "code",
      "execution_count": 1,
      "metadata": {
        "colab": {
          "base_uri": "https://localhost:8080/"
        },
        "id": "yTQcKfONCrpT",
        "outputId": "3688a8dc-2ec2-42d3-813a-f138b077ec46"
      },
      "outputs": [
        {
          "output_type": "stream",
          "name": "stdout",
          "text": [
            "[1, 2, 3, 4, 5, 6]\n"
          ]
        }
      ],
      "source": [
        "import numpy as np\n",
        "\n",
        "#terdapat list A dan B\n",
        "a = [1, 2, 3]\n",
        "b = [4, 5, 6]\n",
        "\n",
        "#Jumlahkan\n",
        "hasil = a + b\n",
        "\n",
        "print(hasil)"
      ]
    },
    {
      "cell_type": "code",
      "source": [
        "import numpy as np\n",
        "\n",
        "#membuat array\n",
        "nilai_siswa = np.array([85, 55, 40, 90])\n",
        "\n",
        "#mengakses data pada array\n",
        "print(nilai_siswa[0])"
      ],
      "metadata": {
        "colab": {
          "base_uri": "https://localhost:8080/"
        },
        "id": "ZyL3BQCfC0H-",
        "outputId": "4e49eb9d-3007-4351-f6ea-0b768e439f90"
      },
      "execution_count": 2,
      "outputs": [
        {
          "output_type": "stream",
          "name": "stdout",
          "text": [
            "85\n"
          ]
        }
      ]
    },
    {
      "cell_type": "code",
      "source": [
        "import numpy as np\n",
        "\n",
        "#terdapat list A dan B\n",
        "a = [1, 2, 3]\n",
        "b = [4, 5, 6]\n",
        "\n",
        "def add(list_a, list_b):\n",
        "  result = []\n",
        "  for first, second in zip(list_a, list_b):\n",
        "    result.append(first + second)\n",
        "  return result\n",
        "\n",
        "add(a, b)"
      ],
      "metadata": {
        "id": "pswku7CCC3jY"
      },
      "execution_count": null,
      "outputs": []
    },
    {
      "cell_type": "code",
      "source": [
        "import numpy as np\n",
        "\n",
        "print(np.__version__)"
      ],
      "metadata": {
        "colab": {
          "base_uri": "https://localhost:8080/"
        },
        "id": "m_dhvoSBC5vp",
        "outputId": "b83b4030-d964-41df-9d66-104013483cae"
      },
      "execution_count": 3,
      "outputs": [
        {
          "output_type": "stream",
          "name": "stdout",
          "text": [
            "1.23.5\n"
          ]
        }
      ]
    },
    {
      "cell_type": "code",
      "source": [
        "print(\"Hello, World!\")\n",
        "print(\"Nama saya Amos Immanuel Sihombing\")\n",
        "print(\"Nim saya 2022071020\")"
      ],
      "metadata": {
        "colab": {
          "base_uri": "https://localhost:8080/"
        },
        "id": "GYq8kJhNC_2g",
        "outputId": "9f4ff1fc-53eb-4bbc-c5a0-cb1d6c1af40f"
      },
      "execution_count": 4,
      "outputs": [
        {
          "output_type": "stream",
          "name": "stdout",
          "text": [
            "Hello, World!\n",
            "Nama saya Amos Immanuel Sihombing\n",
            "Nim saya 2022071020\n"
          ]
        }
      ]
    },
    {
      "cell_type": "code",
      "source": [
        "if 5>2:\n",
        "  print(\"Five is greater than two!\")"
      ],
      "metadata": {
        "colab": {
          "base_uri": "https://localhost:8080/"
        },
        "id": "zKEpd7q6DaXn",
        "outputId": "38b346a4-047e-47bd-915f-3c52173b8654"
      },
      "execution_count": 5,
      "outputs": [
        {
          "output_type": "stream",
          "name": "stdout",
          "text": [
            "Five is greater than two!\n"
          ]
        }
      ]
    },
    {
      "cell_type": "code",
      "source": [
        "x = 5\n",
        "y = \"john\"\n",
        "print(x)\n",
        "print(y)"
      ],
      "metadata": {
        "colab": {
          "base_uri": "https://localhost:8080/"
        },
        "id": "7wcqY1c5DcDf",
        "outputId": "c5793b30-3f94-4080-9ba1-d4d63e6bae17"
      },
      "execution_count": 6,
      "outputs": [
        {
          "output_type": "stream",
          "name": "stdout",
          "text": [
            "5\n",
            "john\n"
          ]
        }
      ]
    },
    {
      "cell_type": "code",
      "source": [
        "x = 4\n",
        "x = \"Sally\"\n",
        "print(x)"
      ],
      "metadata": {
        "colab": {
          "base_uri": "https://localhost:8080/"
        },
        "id": "fUeM-8c9Dfaj",
        "outputId": "c43c071d-6233-4126-d69f-4d83e77b11e2"
      },
      "execution_count": 7,
      "outputs": [
        {
          "output_type": "stream",
          "name": "stdout",
          "text": [
            "Sally\n"
          ]
        }
      ]
    },
    {
      "cell_type": "code",
      "source": [
        "def getfirst(myList):\n",
        "    return myList[0]\n",
        "\n",
        "getfirst([1,2,3,])"
      ],
      "metadata": {
        "colab": {
          "base_uri": "https://localhost:8080/"
        },
        "id": "-xB5W6rKDilS",
        "outputId": "2a0dc0f6-5077-43f7-af6b-886a87a13900"
      },
      "execution_count": 8,
      "outputs": [
        {
          "output_type": "execute_result",
          "data": {
            "text/plain": [
              "1"
            ]
          },
          "metadata": {},
          "execution_count": 8
        }
      ]
    },
    {
      "cell_type": "code",
      "source": [
        "def getfirst(myList):\n",
        "    return myList[2-1]\n",
        "\n",
        "getfirst([1,2,3,])"
      ],
      "metadata": {
        "colab": {
          "base_uri": "https://localhost:8080/"
        },
        "id": "85te_kJuDjvv",
        "outputId": "29e32f5f-73de-4f33-8cbc-81a06835dd76"
      },
      "execution_count": 9,
      "outputs": [
        {
          "output_type": "execute_result",
          "data": {
            "text/plain": [
              "2"
            ]
          },
          "metadata": {},
          "execution_count": 9
        }
      ]
    },
    {
      "cell_type": "code",
      "source": [
        "def getfirst(myList):\n",
        "    return myList[5-2]\n",
        "\n",
        "getfirst([1,2,3,4,5])"
      ],
      "metadata": {
        "colab": {
          "base_uri": "https://localhost:8080/"
        },
        "id": "NVSD9v7vDlyA",
        "outputId": "79ebbac2-e733-498e-e58a-f3567f4f2f88"
      },
      "execution_count": 10,
      "outputs": [
        {
          "output_type": "execute_result",
          "data": {
            "text/plain": [
              "4"
            ]
          },
          "metadata": {},
          "execution_count": 10
        }
      ]
    },
    {
      "cell_type": "code",
      "source": [
        "getfirst([1,2,3,4,5,6,7,8,9])"
      ],
      "metadata": {
        "colab": {
          "base_uri": "https://localhost:8080/"
        },
        "id": "E0DfQTfsDo6w",
        "outputId": "f6e8a8e0-686a-4c99-a1ca-a64bde4c1697"
      },
      "execution_count": 11,
      "outputs": [
        {
          "output_type": "execute_result",
          "data": {
            "text/plain": [
              "4"
            ]
          },
          "metadata": {},
          "execution_count": 11
        }
      ]
    },
    {
      "cell_type": "code",
      "source": [
        "def getsecond(myList):\n",
        "    return myList[1]\n",
        "\n",
        "getsecond([1,2,3])"
      ],
      "metadata": {
        "colab": {
          "base_uri": "https://localhost:8080/"
        },
        "id": "2BC_OklyDrQp",
        "outputId": "a1164308-b357-4336-8306-19fae4e3aae2"
      },
      "execution_count": 12,
      "outputs": [
        {
          "output_type": "execute_result",
          "data": {
            "text/plain": [
              "2"
            ]
          },
          "metadata": {},
          "execution_count": 12
        }
      ]
    },
    {
      "cell_type": "code",
      "source": [
        "def getLast(myList):\n",
        "    return myList[-1]\n",
        "\n",
        "getLast([1,2,3,4,5,6,7,8,9])"
      ],
      "metadata": {
        "colab": {
          "base_uri": "https://localhost:8080/"
        },
        "id": "c0e1pOJWDtJD",
        "outputId": "7e6486a7-c2c3-4e7b-80dc-5f5cb88be26d"
      },
      "execution_count": 13,
      "outputs": [
        {
          "output_type": "execute_result",
          "data": {
            "text/plain": [
              "9"
            ]
          },
          "metadata": {},
          "execution_count": 13
        }
      ]
    },
    {
      "cell_type": "code",
      "source": [
        "def getLast(myList):\n",
        "    return myList[-2]\n",
        "\n",
        "getLast([1,2,3,4,5,6,7,8,9])"
      ],
      "metadata": {
        "colab": {
          "base_uri": "https://localhost:8080/"
        },
        "id": "O9wZ2De1DuzL",
        "outputId": "31206619-065e-46cb-9096-b495336fd83a"
      },
      "execution_count": 14,
      "outputs": [
        {
          "output_type": "execute_result",
          "data": {
            "text/plain": [
              "8"
            ]
          },
          "metadata": {},
          "execution_count": 14
        }
      ]
    },
    {
      "cell_type": "code",
      "source": [
        "def getLast(myList):\n",
        "    return myList[-3]\n",
        "\n",
        "getLast([1,2,3,4,5,6,7,8,9])"
      ],
      "metadata": {
        "colab": {
          "base_uri": "https://localhost:8080/"
        },
        "id": "0npgSGG9DwHo",
        "outputId": "d3c2acb7-f171-452c-acda-5bc4fe57671d"
      },
      "execution_count": 15,
      "outputs": [
        {
          "output_type": "execute_result",
          "data": {
            "text/plain": [
              "7"
            ]
          },
          "metadata": {},
          "execution_count": 15
        }
      ]
    },
    {
      "cell_type": "code",
      "source": [
        "def getSum(myList):\n",
        "    sum = 0\n",
        "    for item in myList:\n",
        "        sum = sum+item\n",
        "    return sum\n",
        "#perhatikan posisi spasi pada return\n",
        "\n",
        "getSum([1,2,3,4])"
      ],
      "metadata": {
        "colab": {
          "base_uri": "https://localhost:8080/"
        },
        "id": "i1Afz5tzDytk",
        "outputId": "0c5030cc-3dce-41cb-e996-2df87a0960c1"
      },
      "execution_count": 16,
      "outputs": [
        {
          "output_type": "execute_result",
          "data": {
            "text/plain": [
              "10"
            ]
          },
          "metadata": {},
          "execution_count": 16
        }
      ]
    },
    {
      "cell_type": "code",
      "source": [
        "  def getSum(myList):\n",
        "    sum = 0\n",
        "    for item in myList:\n",
        "        sum = sum+item\n",
        "    return sum\n",
        "\n",
        "getSum([1,2,3])"
      ],
      "metadata": {
        "colab": {
          "base_uri": "https://localhost:8080/"
        },
        "id": "nrrn2XYRD0Bs",
        "outputId": "405ef06b-481c-40c9-a543-d795a3371d2c"
      },
      "execution_count": 17,
      "outputs": [
        {
          "output_type": "execute_result",
          "data": {
            "text/plain": [
              "6"
            ]
          },
          "metadata": {},
          "execution_count": 17
        }
      ]
    },
    {
      "cell_type": "code",
      "source": [
        "def getSum(myList):\n",
        "    sum = 0\n",
        "    for item in myList:\n",
        "        sum = sum+item\n",
        "    return sum\n",
        "\n",
        "\n",
        "getSum([1,2,3,4,5])"
      ],
      "metadata": {
        "colab": {
          "base_uri": "https://localhost:8080/"
        },
        "id": "67VpdLRGD2nV",
        "outputId": "0c9df9a3-2a82-4e0c-91e0-f9147ead5e57"
      },
      "execution_count": 18,
      "outputs": [
        {
          "output_type": "execute_result",
          "data": {
            "text/plain": [
              "15"
            ]
          },
          "metadata": {},
          "execution_count": 18
        }
      ]
    },
    {
      "cell_type": "code",
      "source": [
        "def getSum(myList):\n",
        "    sum = 1\n",
        "    for item in myList:\n",
        "        sum = sum+item\n",
        "    return sum\n",
        "\n",
        "\n",
        "getSum([1,2,3,4,5])"
      ],
      "metadata": {
        "colab": {
          "base_uri": "https://localhost:8080/"
        },
        "id": "8siT9DvHD4Gp",
        "outputId": "7f38484d-c2d2-4909-95dc-56bcb20c4a2a"
      },
      "execution_count": 19,
      "outputs": [
        {
          "output_type": "execute_result",
          "data": {
            "text/plain": [
              "16"
            ]
          },
          "metadata": {},
          "execution_count": 19
        }
      ]
    },
    {
      "cell_type": "code",
      "source": [
        "def getSum(myList):\n",
        "    sum = 2\n",
        "    for item in myList:\n",
        "        sum = sum+item\n",
        "    return sum\n",
        "\n",
        "\n",
        "getSum([1,2,3,4,5])"
      ],
      "metadata": {
        "colab": {
          "base_uri": "https://localhost:8080/"
        },
        "id": "tHi12jL7D7VT",
        "outputId": "ca6fb0b7-ec24-4eae-e780-3d24eda91359"
      },
      "execution_count": 20,
      "outputs": [
        {
          "output_type": "execute_result",
          "data": {
            "text/plain": [
              "17"
            ]
          },
          "metadata": {},
          "execution_count": 20
        }
      ]
    },
    {
      "cell_type": "code",
      "source": [
        "def getSum(myList):\n",
        "    sum = -2\n",
        "    for item in myList:\n",
        "        sum = sum+item\n",
        "    return sum\n",
        "\n",
        "\n",
        "getSum([1,2,3,4,5])"
      ],
      "metadata": {
        "colab": {
          "base_uri": "https://localhost:8080/"
        },
        "id": "gjSjhTSBD9iB",
        "outputId": "4e72bc40-74e1-4194-9e59-326cca2a0a2c"
      },
      "execution_count": 21,
      "outputs": [
        {
          "output_type": "execute_result",
          "data": {
            "text/plain": [
              "13"
            ]
          },
          "metadata": {},
          "execution_count": 21
        }
      ]
    },
    {
      "cell_type": "code",
      "source": [
        "def getSum(myList):\n",
        "    sum = -5\n",
        "    for item in myList:\n",
        "        sum = sum+item\n",
        "    return sum\n",
        "\n",
        "\n",
        "getSum([1,2,3,4,5])"
      ],
      "metadata": {
        "colab": {
          "base_uri": "https://localhost:8080/"
        },
        "id": "mGEtbAYwD-4F",
        "outputId": "aa006cb0-a4f0-4eab-a7d5-fdd536bae4fd"
      },
      "execution_count": 22,
      "outputs": [
        {
          "output_type": "execute_result",
          "data": {
            "text/plain": [
              "10"
            ]
          },
          "metadata": {},
          "execution_count": 22
        }
      ]
    },
    {
      "cell_type": "code",
      "source": [
        "def getSum(myList):\n",
        "    sum = 2-3\n",
        "    for item in myList:\n",
        "        sum = sum+item\n",
        "    return sum\n",
        "\n",
        "\n",
        "getSum([1,2,3,4,5])"
      ],
      "metadata": {
        "colab": {
          "base_uri": "https://localhost:8080/"
        },
        "id": "7TMzWup6EDdD",
        "outputId": "ac89fe5e-b05b-44fb-aa0f-e3f8724e2c8d"
      },
      "execution_count": 23,
      "outputs": [
        {
          "output_type": "execute_result",
          "data": {
            "text/plain": [
              "14"
            ]
          },
          "metadata": {},
          "execution_count": 23
        }
      ]
    },
    {
      "cell_type": "code",
      "source": [
        "def getSum(myList):\n",
        "    sum = 3-1\n",
        "    for item in myList:\n",
        "        sum = sum+item\n",
        "    return sum\n",
        "\n",
        "\n",
        "getSum([1,2,3,4,5])"
      ],
      "metadata": {
        "colab": {
          "base_uri": "https://localhost:8080/"
        },
        "id": "RiHa7EbeEIf9",
        "outputId": "5d9ea050-b284-44d3-a5b8-09d11fd8dc7f"
      },
      "execution_count": 24,
      "outputs": [
        {
          "output_type": "execute_result",
          "data": {
            "text/plain": [
              "17"
            ]
          },
          "metadata": {},
          "execution_count": 24
        }
      ]
    },
    {
      "cell_type": "code",
      "source": [
        "def getKali(myList):\n",
        "    kali = 1\n",
        "    for item in myList:\n",
        "        kali = kali*item\n",
        "    return kali\n",
        "\n",
        "getKali([1,2,3,4,5])"
      ],
      "metadata": {
        "colab": {
          "base_uri": "https://localhost:8080/"
        },
        "id": "u8xxZmHdEKmy",
        "outputId": "be3e29e8-ef84-4205-e826-2f5fd97449f1"
      },
      "execution_count": 25,
      "outputs": [
        {
          "output_type": "execute_result",
          "data": {
            "text/plain": [
              "120"
            ]
          },
          "metadata": {},
          "execution_count": 25
        }
      ]
    },
    {
      "cell_type": "code",
      "source": [
        "def getKali(myList):\n",
        "    kali = 0\n",
        "    for item in myList:\n",
        "        kali = kali*item\n",
        "    return kali\n",
        "\n",
        "getKali([1,2,3,4,5])"
      ],
      "metadata": {
        "colab": {
          "base_uri": "https://localhost:8080/"
        },
        "id": "_58c1HT1EL5b",
        "outputId": "349ca518-48e0-45ed-aae5-15f5dc92cc0d"
      },
      "execution_count": 26,
      "outputs": [
        {
          "output_type": "execute_result",
          "data": {
            "text/plain": [
              "0"
            ]
          },
          "metadata": {},
          "execution_count": 26
        }
      ]
    },
    {
      "cell_type": "code",
      "source": [
        "def getKali(myList):\n",
        "    kali = 5\n",
        "    for item in myList:\n",
        "        kali = kali*item\n",
        "    return kali\n",
        "\n",
        "getKali([1,2,3,4,5])"
      ],
      "metadata": {
        "colab": {
          "base_uri": "https://localhost:8080/"
        },
        "id": "Z0Rdd9xxERDm",
        "outputId": "4e828b72-128d-411e-8b47-3c20020b33c6"
      },
      "execution_count": 27,
      "outputs": [
        {
          "output_type": "execute_result",
          "data": {
            "text/plain": [
              "600"
            ]
          },
          "metadata": {},
          "execution_count": 27
        }
      ]
    },
    {
      "cell_type": "code",
      "source": [
        "def getKali(myList):\n",
        "    kali = 5\n",
        "    for item in myList:\n",
        "        kali = kali*item\n",
        "    return kali\n",
        "\n",
        "getKali([1,2,3])"
      ],
      "metadata": {
        "colab": {
          "base_uri": "https://localhost:8080/"
        },
        "id": "-x5aCuk2ESkY",
        "outputId": "6519ad0d-fda6-45f2-e9d3-0aec512151e8"
      },
      "execution_count": 28,
      "outputs": [
        {
          "output_type": "execute_result",
          "data": {
            "text/plain": [
              "30"
            ]
          },
          "metadata": {},
          "execution_count": 28
        }
      ]
    },
    {
      "cell_type": "code",
      "source": [
        "def getKali(myList):\n",
        "    kali = -2\n",
        "    for item in myList:\n",
        "        kali = kali*item\n",
        "    return kali\n",
        "\n",
        "getKali([1,2,3,4,5])"
      ],
      "metadata": {
        "colab": {
          "base_uri": "https://localhost:8080/"
        },
        "id": "mYMYwjusEUNl",
        "outputId": "57188d50-a43f-4b06-eed3-e9b0844d32fb"
      },
      "execution_count": 29,
      "outputs": [
        {
          "output_type": "execute_result",
          "data": {
            "text/plain": [
              "-240"
            ]
          },
          "metadata": {},
          "execution_count": 29
        }
      ]
    },
    {
      "cell_type": "code",
      "source": [
        "def getKali(myList):\n",
        "    kali = 3\n",
        "    for item in myList:\n",
        "        kali = kali*item\n",
        "    return kali\n",
        "\n",
        "getKali([1,2,3,4,5])"
      ],
      "metadata": {
        "colab": {
          "base_uri": "https://localhost:8080/"
        },
        "id": "eQxCm621EWEU",
        "outputId": "2ec2f924-b522-4573-cf5c-9aa7755f13ff"
      },
      "execution_count": 30,
      "outputs": [
        {
          "output_type": "execute_result",
          "data": {
            "text/plain": [
              "360"
            ]
          },
          "metadata": {},
          "execution_count": 30
        }
      ]
    },
    {
      "cell_type": "code",
      "source": [
        "def getBagi(myList):\n",
        "    bagi = 0\n",
        "    for item in myList:\n",
        "        bagi = bagi/item\n",
        "    return bagi\n",
        "\n",
        "getBagi([1,2,3,4,5])"
      ],
      "metadata": {
        "colab": {
          "base_uri": "https://localhost:8080/"
        },
        "id": "dhmcjKz_EXKF",
        "outputId": "c13fea65-c58d-44f8-e972-4d5e2a3c5f0b"
      },
      "execution_count": 31,
      "outputs": [
        {
          "output_type": "execute_result",
          "data": {
            "text/plain": [
              "0.0"
            ]
          },
          "metadata": {},
          "execution_count": 31
        }
      ]
    },
    {
      "cell_type": "code",
      "source": [
        "def getBagi(myList):\n",
        "    bagi = 1\n",
        "    for item in myList:\n",
        "        bagi = bagi/item\n",
        "    return bagi\n",
        "\n",
        "getBagi([1,2,3])"
      ],
      "metadata": {
        "colab": {
          "base_uri": "https://localhost:8080/"
        },
        "id": "A2Z2BUzWEYzo",
        "outputId": "06b4391f-8eda-41a4-bfc3-a692655a60b1"
      },
      "execution_count": 32,
      "outputs": [
        {
          "output_type": "execute_result",
          "data": {
            "text/plain": [
              "0.16666666666666666"
            ]
          },
          "metadata": {},
          "execution_count": 32
        }
      ]
    },
    {
      "cell_type": "code",
      "source": [
        "def getBagi(myList):\n",
        "    bagi = 2\n",
        "    for item in myList:\n",
        "        bagi = bagi/item\n",
        "    return bagi\n",
        "\n",
        "getBagi([1,2,3])"
      ],
      "metadata": {
        "colab": {
          "base_uri": "https://localhost:8080/"
        },
        "id": "Sup606UbEaNK",
        "outputId": "f638d343-518f-433c-9012-d80aaba4f968"
      },
      "execution_count": 33,
      "outputs": [
        {
          "output_type": "execute_result",
          "data": {
            "text/plain": [
              "0.3333333333333333"
            ]
          },
          "metadata": {},
          "execution_count": 33
        }
      ]
    },
    {
      "cell_type": "code",
      "source": [
        "def getAverage(myList):\n",
        "    Average = 0\n",
        "    for item in myList:\n",
        "        Average = sum(myList) / len(myList)\n",
        "    return Average\n",
        "\n",
        "\n",
        "getAverage([1,2,3,4,5])"
      ],
      "metadata": {
        "colab": {
          "base_uri": "https://localhost:8080/"
        },
        "id": "XDD_1dKpEbqb",
        "outputId": "310434a1-89ed-4e0c-aa6b-f95047e3f292"
      },
      "execution_count": 34,
      "outputs": [
        {
          "output_type": "execute_result",
          "data": {
            "text/plain": [
              "3.0"
            ]
          },
          "metadata": {},
          "execution_count": 34
        }
      ]
    },
    {
      "cell_type": "code",
      "source": [
        "def add(list_a, list_b):\n",
        "  result = []\n",
        "  for first, second in zip(list_a, list_b):\n",
        "    result.append(first - second)\n",
        "  return result\n",
        "\n",
        "add(a, b)"
      ],
      "metadata": {
        "colab": {
          "base_uri": "https://localhost:8080/"
        },
        "id": "ydVqYMUdEdAK",
        "outputId": "6204ad9e-135f-47b3-94e5-116c004fce18"
      },
      "execution_count": 35,
      "outputs": [
        {
          "output_type": "execute_result",
          "data": {
            "text/plain": [
              "[-3, -3, -3]"
            ]
          },
          "metadata": {},
          "execution_count": 35
        }
      ]
    },
    {
      "cell_type": "code",
      "source": [
        "x = ([1,2,3,4,5])\n",
        "y = ([1,2,3,4,5])\n",
        "hasil = sum(x) / sum(y)\n",
        "print(hasil)"
      ],
      "metadata": {
        "colab": {
          "base_uri": "https://localhost:8080/"
        },
        "id": "0sL4ZUKOEeaP",
        "outputId": "738a53f6-476d-4476-d60c-509ced30cf97"
      },
      "execution_count": 36,
      "outputs": [
        {
          "output_type": "stream",
          "name": "stdout",
          "text": [
            "1.0\n"
          ]
        }
      ]
    },
    {
      "cell_type": "code",
      "source": [
        "def kurang(list_a, list_b):\n",
        "  return getSum(list_a) - getSum(list_b)\n",
        "\n",
        "kurang([1,2,3,4],[5,6,7,8])"
      ],
      "metadata": {
        "colab": {
          "base_uri": "https://localhost:8080/"
        },
        "id": "NsIS0DXVEfzZ",
        "outputId": "71dd19c5-4b25-41af-bed8-9490d59e1143"
      },
      "execution_count": 37,
      "outputs": [
        {
          "output_type": "execute_result",
          "data": {
            "text/plain": [
              "-16"
            ]
          },
          "metadata": {},
          "execution_count": 37
        }
      ]
    },
    {
      "cell_type": "code",
      "source": [
        "def bagi(list_a, list_b):\n",
        "  return getSum(list_a) / getSum(list_b)\n",
        "\n",
        "bagi([1,2,3,4],[5,6,7,8])"
      ],
      "metadata": {
        "colab": {
          "base_uri": "https://localhost:8080/"
        },
        "id": "9yc4pJjjEiCt",
        "outputId": "2f3248d4-c357-4ed4-f84d-a1c22cbf3d83"
      },
      "execution_count": 38,
      "outputs": [
        {
          "output_type": "execute_result",
          "data": {
            "text/plain": [
              "0.42857142857142855"
            ]
          },
          "metadata": {},
          "execution_count": 38
        }
      ]
    }
  ]
}