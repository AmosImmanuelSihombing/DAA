{
  "nbformat": 4,
  "nbformat_minor": 0,
  "metadata": {
    "colab": {
      "provenance": []
    },
    "kernelspec": {
      "name": "python3",
      "display_name": "Python 3"
    },
    "language_info": {
      "name": "python"
    }
  },
  "cells": [
    {
      "cell_type": "code",
      "execution_count": 7,
      "metadata": {
        "colab": {
          "base_uri": "https://localhost:8080/"
        },
        "id": "0NSHjDnPoHQt",
        "outputId": "154b7a39-dcb6-4a37-92ad-f2be99ca4e71"
      },
      "outputs": [
        {
          "output_type": "stream",
          "name": "stdout",
          "text": [
            "KPK dari 3 dan 4 adalah 12\n"
          ]
        }
      ],
      "source": [
        "def kpk(a, b):\n",
        " if a > b:\n",
        "   terbesar = a\n",
        " else:\n",
        "  terbesar = b\n",
        " while True:\n",
        "  if terbesar % a == 0 and terbesar % b == 0:\n",
        "    hasil = terbesar\n",
        "    break\n",
        "  terbesar += 1\n",
        " return hasil\n",
        "a = 3\n",
        "b = 4\n",
        "print(\"KPK dari\", a, \"dan\", b, \"adalah\", kpk(a, b))"
      ]
    },
    {
      "cell_type": "code",
      "source": [
        "def menukar(x, y):\n",
        " piring = [x, y, \"\"]\n",
        " for i in range(len(piring)):\n",
        "  piring[2] = x\n",
        "  piring[0] = y\n",
        "  piring[1] = x\n",
        "  piring[2] = \"\"\n",
        "  print(\"piring\", i+1, \"=\", str(piring[i]))\n",
        "x = \"manggis\"\n",
        "y = \"pisang\"\n",
        "print(\"piring 1 =\", x)\n",
        "print(\"piring 2 =\", y)\n",
        "print(\"piring 3 = \")\n",
        "print(\"\\nHasil penukaran:\")\n",
        "menukar(x, y)\n"
      ],
      "metadata": {
        "colab": {
          "base_uri": "https://localhost:8080/"
        },
        "id": "LOHy52vYoNso",
        "outputId": "c6cc519c-5472-44be-f771-1fed3b443206"
      },
      "execution_count": 8,
      "outputs": [
        {
          "output_type": "stream",
          "name": "stdout",
          "text": [
            "piring 1 = manggis\n",
            "piring 2 = pisang\n",
            "piring 3 = \n",
            "\n",
            "Hasil penukaran:\n",
            "piring 1 = pisang\n",
            "piring 2 = manggis\n",
            "piring 3 = \n"
          ]
        }
      ]
    },
    {
      "cell_type": "code",
      "source": [
        "def luas_segitiga(alas, tinggi):\n",
        " return 0.5*alas*tinggi\n",
        "alas = 25\n",
        "tinggi = 30\n",
        "print(\"Alas =\", alas, \"\\nTinggi =\", tinggi, \"\\nLuas = \", luas_segitiga(alas, tinggi))"
      ],
      "metadata": {
        "colab": {
          "base_uri": "https://localhost:8080/"
        },
        "id": "Ljn4JJwUoOsh",
        "outputId": "44717835-198b-410d-dccf-07cfe4557dc0"
      },
      "execution_count": 9,
      "outputs": [
        {
          "output_type": "stream",
          "name": "stdout",
          "text": [
            "Alas = 25 \n",
            "Tinggi = 30 \n",
            "Luas =  375.0\n"
          ]
        }
      ]
    },
    {
      "cell_type": "code",
      "source": [
        "def luas_jajargenjang(alas, tinggi):\n",
        " return alas*tinggi\n",
        "alas = 5\n",
        "tinggi = 3\n",
        "print(\"Alas =\", alas, \"\\nTinggi =\", tinggi, \"\\nLuas = \", luas_jajargenjang(alas, tinggi))"
      ],
      "metadata": {
        "colab": {
          "base_uri": "https://localhost:8080/"
        },
        "id": "FOQZbZOXoOv7",
        "outputId": "cf9d6624-77a7-4a4d-eb3c-073b9c4b9dc6"
      },
      "execution_count": 10,
      "outputs": [
        {
          "output_type": "stream",
          "name": "stdout",
          "text": [
            "Alas = 5 \n",
            "Tinggi = 3 \n",
            "Luas =  15\n"
          ]
        }
      ]
    },
    {
      "cell_type": "code",
      "source": [
        "import math\n",
        "def volume_tabung(r, t):\n",
        " return math.pi*r**2*t\n",
        "jari_jari = 3\n",
        "tinggi = 5\n",
        "print(\"Jari-jari =\", jari_jari, \"\\nTinggi =\", tinggi, \"\\nLuas = \", volume_tabung(jari_jari,\n",
        "tinggi))"
      ],
      "metadata": {
        "colab": {
          "base_uri": "https://localhost:8080/"
        },
        "id": "o-wt0UU9oPT3",
        "outputId": "10b210fb-3ba4-4ce0-eb74-766630d53d1e"
      },
      "execution_count": 11,
      "outputs": [
        {
          "output_type": "stream",
          "name": "stdout",
          "text": [
            "Jari-jari = 3 \n",
            "Tinggi = 5 \n",
            "Luas =  141.3716694115407\n"
          ]
        }
      ]
    },
    {
      "cell_type": "code",
      "source": [
        "import math\n",
        "def volume_kerucut(d, t):\n",
        " r = d/2\n",
        " return 1/3*math.pi*r**2*t\n",
        "diameter = 5\n",
        "tinggi = 4\n",
        "print(\"Diameter =\", diameter, \"\\nTinggi =\", tinggi, \"\\nVolume = \",\n",
        "volume_kerucut(diameter, tinggi))"
      ],
      "metadata": {
        "colab": {
          "base_uri": "https://localhost:8080/"
        },
        "id": "M179-zibpekL",
        "outputId": "d6494cba-d4d5-4837-ad73-f7505780762e"
      },
      "execution_count": 12,
      "outputs": [
        {
          "output_type": "stream",
          "name": "stdout",
          "text": [
            "Diameter = 5 \n",
            "Tinggi = 4 \n",
            "Volume =  26.17993877991494\n"
          ]
        }
      ]
    }
  ]
}