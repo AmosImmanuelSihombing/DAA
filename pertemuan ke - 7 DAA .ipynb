{
  "nbformat": 4,
  "nbformat_minor": 0,
  "metadata": {
    "colab": {
      "provenance": []
    },
    "kernelspec": {
      "name": "python3",
      "display_name": "Python 3"
    },
    "language_info": {
      "name": "python"
    }
  },
  "cells": [
    {
      "cell_type": "code",
      "execution_count": 2,
      "metadata": {
        "colab": {
          "base_uri": "https://localhost:8080/"
        },
        "id": "m-LyawpoVs55",
        "outputId": "d3400e42-21fe-42f4-c42e-c1ef176ea0d2"
      },
      "outputs": [
        {
          "output_type": "stream",
          "name": "stdout",
          "text": [
            "53 37 \n",
            "16 11 \n"
          ]
        }
      ],
      "source": [
        "def PerkalianMatriks(a, b):\n",
        "  for i in range(0, len(a)):\n",
        "    row = []\n",
        "    for j in range(0, len(a[0])):\n",
        "      total = 0\n",
        "      for k in range(0, len(a)):\n",
        "        total += (a[i][k] * b[k][j])\n",
        "      row.append(total)\n",
        "    c.append(row)\n",
        "\n",
        "  for i in range(0, len(c)):\n",
        "    for j in range(0, len(c[0])):\n",
        "      print(c[i][j], end=' ')\n",
        "    print()\n",
        "\n",
        "a = [\n",
        "    [7, 3],\n",
        "    [2, 1]\n",
        "]\n",
        "\n",
        "b = [\n",
        "    [5, 4],\n",
        "    [6, 3]\n",
        "]\n",
        "\n",
        "c = []\n",
        "\n",
        "PerkalianMatriks(a, b)"
      ]
    },
    {
      "cell_type": "code",
      "source": [
        "mat1 = [\n",
        "    [7, 3],\n",
        "    [2, 1],\n",
        "]\n",
        "\n",
        "\n",
        "mat2 = [\n",
        "    [5, 4],\n",
        "    [6, 3],\n",
        "]\n",
        "\n",
        "mat3 = []\n",
        "\n",
        "for x in range(0, len(mat1)):\n",
        "    row = []\n",
        "    for y in range(0, len(mat1[0])):\n",
        "        total = 0\n",
        "        for z in range(0, len(mat1)):\n",
        "            total = total + (mat1[x][z] * mat2[z][y])\n",
        "        row.append(total)\n",
        "    mat3.append(row)\n",
        "\n",
        "for x in range(0, len(mat3)):\n",
        "    for y in range(0, len(mat3[0])):\n",
        "        print(mat3[x][y], end=' ')\n",
        "    print()"
      ],
      "metadata": {
        "colab": {
          "base_uri": "https://localhost:8080/"
        },
        "id": "zNsgbQwPYuk6",
        "outputId": "6791e4f4-8500-449b-c6f4-854ce824d75b"
      },
      "execution_count": 3,
      "outputs": [
        {
          "output_type": "stream",
          "name": "stdout",
          "text": [
            "53 37 \n",
            "16 11 \n"
          ]
        }
      ]
    },
    {
      "cell_type": "code",
      "source": [
        "def faktorial(n):\n",
        "  if (n == 1):\n",
        "    return n\n",
        "  return faktorial(n - 1) * n\n",
        "\n",
        "n = int(input(\"Masukkan nilai n: \"))\n",
        "print(f\"Hasil dari {n}!\", faktorial(n))"
      ],
      "metadata": {
        "colab": {
          "base_uri": "https://localhost:8080/"
        },
        "id": "SvrtGwbTadbC",
        "outputId": "9ca727c4-437c-4c46-cb33-ac75a1ac9678"
      },
      "execution_count": 10,
      "outputs": [
        {
          "output_type": "stream",
          "name": "stdout",
          "text": [
            "Masukkan nilai n: 6\n",
            "Hasil dari 6! 720\n"
          ]
        }
      ]
    },
    {
      "cell_type": "code",
      "source": [
        "def nilai_maksimal(deret_bilangan):\n",
        "  nilai_terbesar = deret_bilangan[0]\n",
        "\n",
        "  for nilai in deret_bilangan:\n",
        "    if nilai > nilai_terbesar:\n",
        "      nilai_terbesar = nilai\n",
        "\n",
        "  return nilai_terbesar\n",
        "\n",
        "a = [3, 20, 100, -35, 50]\n",
        "\n",
        "print(a)\n",
        "print(\"Nilai terbesar: \", nilai_maksimal(a))"
      ],
      "metadata": {
        "colab": {
          "base_uri": "https://localhost:8080/"
        },
        "id": "SmowFq5zajuB",
        "outputId": "33d5868f-f1b3-4c68-f32b-98f7afc93248"
      },
      "execution_count": 5,
      "outputs": [
        {
          "output_type": "stream",
          "name": "stdout",
          "text": [
            "[3, 20, 100, -35, 50]\n",
            "Nilai terbesar:  100\n"
          ]
        }
      ]
    },
    {
      "cell_type": "code",
      "source": [
        "def sequentialsSearch(alist, item):\n",
        "  pos = 0\n",
        "  found = False\n",
        "\n",
        "  while pos < len(alist) and not found:\n",
        "    if alist[pos] == item:\n",
        "      found = True\n",
        "    else:\n",
        "      pos = pos + 1\n",
        "  return found\n",
        "\n",
        "testlist = [1, 2, 32, 8, 17, 19, 42, 13, 0]\n",
        "print(sequentialsSearch(testlist, 3))\n",
        "print(sequentialsSearch(testlist, 2))"
      ],
      "metadata": {
        "colab": {
          "base_uri": "https://localhost:8080/"
        },
        "id": "NW6E94_tb8Yu",
        "outputId": "ae77b4eb-3342-4364-e2f3-d67986a4db93"
      },
      "execution_count": 11,
      "outputs": [
        {
          "output_type": "stream",
          "name": "stdout",
          "text": [
            "False\n",
            "True\n"
          ]
        }
      ]
    },
    {
      "cell_type": "code",
      "source": [
        "# Algoritma bubble sort\n",
        "def bubbleSort(alist):\n",
        "  for passnum in range(len(alist)-1, 0, -1):\n",
        "    for i in range(passnum):\n",
        "      if alist[i] > alist[i+1]:\n",
        "        temp = alist[i]\n",
        "        alist[i] = alist[i+1]\n",
        "        alist[i+1] = temp\n",
        "\n",
        "alist = [54, 26, 93, 17, 77, 31, 44, 55, 20]\n",
        "bubbleSort(alist)\n",
        "print(alist)"
      ],
      "metadata": {
        "colab": {
          "base_uri": "https://localhost:8080/"
        },
        "id": "YeUS5usmcAAN",
        "outputId": "49065dc7-fda0-4bdf-af51-48378fba908a"
      },
      "execution_count": 7,
      "outputs": [
        {
          "output_type": "stream",
          "name": "stdout",
          "text": [
            "[17, 20, 26, 31, 44, 54, 55, 77, 93]\n"
          ]
        }
      ]
    },
    {
      "cell_type": "code",
      "source": [
        "# Uji keprimaan\n",
        "x = int(input('Input satu angka bulat: '))\n",
        "\n",
        "angka_prima = True\n",
        "if((x == 0) or (x == 1)):\n",
        "  angka_prima = False\n",
        "else:\n",
        "  for i in range(2, (x//2 +1)):\n",
        "    if ((x%i) == 0):\n",
        "      angka_prima = False\n",
        "      break\n",
        "\n",
        "if(angka_prima):\n",
        "  print(x, \"adalah angka prima\")\n",
        "else:\n",
        "  print(x, \"bukanlah angka prima\")"
      ],
      "metadata": {
        "colab": {
          "base_uri": "https://localhost:8080/"
        },
        "id": "UPWYrzJzetD9",
        "outputId": "d0810f3a-1f84-4066-a880-05561a5ef997"
      },
      "execution_count": 29,
      "outputs": [
        {
          "output_type": "stream",
          "name": "stdout",
          "text": [
            "Input satu angka bulat: 129783\n",
            "129783 bukanlah angka prima\n"
          ]
        }
      ]
    },
    {
      "cell_type": "code",
      "source": [
        "def polynomial_py(a, x):\n",
        "  result = 0\n",
        "  # for every  in 0..len(a)-1\n",
        "  for n, a_n in enumerate(a):\n",
        "    # compute x^n\n",
        "    x_power_n = 1\n",
        "    for i in range(n):\n",
        "      x_power_n *= x\n",
        "    # add a_n * x^n to the final result\n",
        "    result += a_n * x_power_n\n",
        "  return result\n",
        "\n",
        "a = [1, 2, 0, 3] # coefficients\n",
        "x = 1.5\n",
        "print(polynomial_py(a, x))"
      ],
      "metadata": {
        "colab": {
          "base_uri": "https://localhost:8080/"
        },
        "id": "winQlk1bfodK",
        "outputId": "95243fc2-ad6d-467e-96d7-cdd61a68d9dd"
      },
      "execution_count": 12,
      "outputs": [
        {
          "output_type": "stream",
          "name": "stdout",
          "text": [
            "14.125\n"
          ]
        }
      ]
    },
    {
      "cell_type": "code",
      "source": [
        "# Get matching substrings in string\n",
        "# initializing string\n",
        "test_str = \"GfG is good website\"\n",
        "\n",
        "# initializing potential substring\n",
        "test_list = [\"GfG\", \"site\", \"CS\", \"Geeks\", \"Tutorial\"]\n",
        "\n",
        "# printing original string\n",
        "print(\"The original string is : \" + test_str)\n",
        "\n",
        "# printing potential strings ist\n",
        "print(\"The original list is : \" + str(test_list))\n",
        "\n",
        "# using list comprehension\n",
        "# get matching substrings in string\n",
        "res = [sub for sub in test_list if sub in test_str]\n",
        "\n",
        "# printing result\n",
        "print(\"The list of found substrings : \" + str(res))"
      ],
      "metadata": {
        "colab": {
          "base_uri": "https://localhost:8080/"
        },
        "id": "qhCeSJWglZhl",
        "outputId": "2bb6aebc-0466-4638-9ee7-0b681265c43b"
      },
      "execution_count": 21,
      "outputs": [
        {
          "output_type": "stream",
          "name": "stdout",
          "text": [
            "The original string is : GfG is good website\n",
            "The original list is : ['GfG', 'site', 'CS', 'Geeks', 'Tutorial']\n",
            "The list of found substrings : ['GfG', 'site']\n"
          ]
        }
      ]
    },
    {
      "cell_type": "code",
      "source": [
        "from math import sqrt\n",
        "from random import randint\n",
        "\n",
        "titik = []\n",
        "n = int(input(\"Masukkan jumlah titik yang ingin Anda cari jaraknya: \"))\n",
        "for i in range(0, n):\n",
        "  titik.append([randint(0, 100), randint(0, 100)])\n",
        "print(\"Titik:\\n\", titik)\n",
        "def hitungjarak(lis):\n",
        "  lisjarak = []\n",
        "  for i in range(0, len(lis)-1):\n",
        "    for j in range(i+1, len(lis)):\n",
        "      jarak = sqrt((lis[i][0] - lis[j][0])**2 + (lis[i][1]-lis[j][1])**2)\n",
        "      lisjarak.append(jarak)\n",
        "      print(\"Titik: \", lis[i], \"Titik: \", lis[j], \": \", jarak)\n",
        "  return min(lisjarak)\n",
        "print(\"Jarak terdekat: \\n\", hitungjarak(titik))"
      ],
      "metadata": {
        "colab": {
          "base_uri": "https://localhost:8080/"
        },
        "id": "XCqDKX4RnOiW",
        "outputId": "87a22e2b-d092-4454-b212-6d509da5aaed"
      },
      "execution_count": 27,
      "outputs": [
        {
          "output_type": "stream",
          "name": "stdout",
          "text": [
            "Masukkan jumlah titik yang ingin Anda cari jaraknya: 10\n",
            "Titik:\n",
            " [[77, 92], [87, 38], [98, 21], [52, 1], [3, 0], [50, 18], [38, 22], [48, 71], [76, 2], [0, 93]]\n",
            "Titik:  [77, 92] Titik:  [87, 38] :  54.91812087098393\n",
            "Titik:  [77, 92] Titik:  [98, 21] :  74.04052944165107\n",
            "Titik:  [77, 92] Titik:  [52, 1] :  94.37160589923221\n",
            "Titik:  [77, 92] Titik:  [3, 0] :  118.06777714516353\n",
            "Titik:  [77, 92] Titik:  [50, 18] :  78.77182237323191\n",
            "Titik:  [77, 92] Titik:  [38, 22] :  80.1311425102625\n",
            "Titik:  [77, 92] Titik:  [48, 71] :  35.805027579936315\n",
            "Titik:  [77, 92] Titik:  [76, 2] :  90.00555538409837\n",
            "Titik:  [77, 92] Titik:  [0, 93] :  77.00649323271382\n",
            "Titik:  [87, 38] Titik:  [98, 21] :  20.248456731316587\n",
            "Titik:  [87, 38] Titik:  [52, 1] :  50.93132631298737\n",
            "Titik:  [87, 38] Titik:  [3, 0] :  92.19544457292888\n",
            "Titik:  [87, 38] Titik:  [50, 18] :  42.05948168962618\n",
            "Titik:  [87, 38] Titik:  [38, 22] :  51.54609587543949\n",
            "Titik:  [87, 38] Titik:  [48, 71] :  51.088159097779204\n",
            "Titik:  [87, 38] Titik:  [76, 2] :  37.64306044943742\n",
            "Titik:  [87, 38] Titik:  [0, 93] :  102.9271587094485\n",
            "Titik:  [98, 21] Titik:  [52, 1] :  50.15974481593781\n",
            "Titik:  [98, 21] Titik:  [3, 0] :  97.29337079164233\n",
            "Titik:  [98, 21] Titik:  [50, 18] :  48.093658625644196\n",
            "Titik:  [98, 21] Titik:  [38, 22] :  60.00833275470999\n",
            "Titik:  [98, 21] Titik:  [48, 71] :  70.71067811865476\n",
            "Titik:  [98, 21] Titik:  [76, 2] :  29.068883707497267\n",
            "Titik:  [98, 21] Titik:  [0, 93] :  121.60592090848209\n",
            "Titik:  [52, 1] Titik:  [3, 0] :  49.01020301937138\n",
            "Titik:  [52, 1] Titik:  [50, 18] :  17.11724276862369\n",
            "Titik:  [52, 1] Titik:  [38, 22] :  25.238858928247925\n",
            "Titik:  [52, 1] Titik:  [48, 71] :  70.11419257183242\n",
            "Titik:  [52, 1] Titik:  [76, 2] :  24.020824298928627\n",
            "Titik:  [52, 1] Titik:  [0, 93] :  105.67875850898325\n",
            "Titik:  [3, 0] Titik:  [50, 18] :  50.32891812864648\n",
            "Titik:  [3, 0] Titik:  [38, 22] :  41.340053217188775\n",
            "Titik:  [3, 0] Titik:  [48, 71] :  84.05950273467003\n",
            "Titik:  [3, 0] Titik:  [76, 2] :  73.02739212103907\n",
            "Titik:  [3, 0] Titik:  [0, 93] :  93.04837451562494\n",
            "Titik:  [50, 18] Titik:  [38, 22] :  12.649110640673518\n",
            "Titik:  [50, 18] Titik:  [48, 71] :  53.03772242470448\n",
            "Titik:  [50, 18] Titik:  [76, 2] :  30.528675044947494\n",
            "Titik:  [50, 18] Titik:  [0, 93] :  90.13878188659973\n",
            "Titik:  [38, 22] Titik:  [48, 71] :  50.00999900019995\n",
            "Titik:  [38, 22] Titik:  [76, 2] :  42.941821107167776\n",
            "Titik:  [38, 22] Titik:  [0, 93] :  80.52949770115296\n",
            "Titik:  [48, 71] Titik:  [76, 2] :  74.46475676452586\n",
            "Titik:  [48, 71] Titik:  [0, 93] :  52.80151512977634\n",
            "Titik:  [76, 2] Titik:  [0, 93] :  118.56221995222593\n",
            "Jarak terdekat: \n",
            " 12.649110640673518\n"
          ]
        }
      ]
    },
    {
      "cell_type": "code",
      "source": [
        "# Find Maximum Value in Linear Search\n",
        "def find_maximum(lst):\n",
        "  max = None\n",
        "  for el in lst:\n",
        "    if max == None or el > max:\n",
        "      max = el\n",
        "  return max\n",
        "test_scores = [88, 93, 75, 100, 80, 67, 71, 92, 90, 83]\n",
        "print(find_maximum(test_scores))"
      ],
      "metadata": {
        "colab": {
          "base_uri": "https://localhost:8080/"
        },
        "id": "iSN19Ls1sVy2",
        "outputId": "e26eef16-ab94-4cb0-d45d-ba4ebb4a9869"
      },
      "execution_count": 30,
      "outputs": [
        {
          "output_type": "stream",
          "name": "stdout",
          "text": [
            "100\n"
          ]
        }
      ]
    },
    {
      "cell_type": "code",
      "source": [
        "#algoritma Brute Force: String matching\n",
        "\n",
        "def string_match(string, sub_str):\n",
        "    # Brute force string matching\n",
        "    for i in range(len(string)-len(sub_str)+1):\n",
        "        index = i # index Point to the 1 Three characters to be compared\n",
        "        for j in range(len(sub_str)):\n",
        "            if string[index] == sub_str[j]:\n",
        "                index += 1\n",
        "            else:\n",
        "                break\n",
        "            if index-i == len(sub_str):\n",
        "                return i\n",
        "    return -1\n",
        "\n",
        "if __name__ == \"__main__\":\n",
        "    print(string_match(\"adbcbdc\",\"bdc\"))"
      ],
      "metadata": {
        "colab": {
          "base_uri": "https://localhost:8080/"
        },
        "id": "6dC90v1e37iZ",
        "outputId": "9b5b5d22-111f-4b49-d8ec-8ddb56c0c8ad"
      },
      "execution_count": 33,
      "outputs": [
        {
          "output_type": "stream",
          "name": "stdout",
          "text": [
            "4\n"
          ]
        }
      ]
    }
  ]
}
